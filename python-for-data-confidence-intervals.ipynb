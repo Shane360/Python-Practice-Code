{
 "cells": [
  {
   "cell_type": "code",
   "execution_count": 1,
   "id": "c9658ed9",
   "metadata": {
    "_cell_guid": "b1076dfc-b9ad-4769-8c92-a6c4dae69d19",
    "_uuid": "8f2839f25d086af736a60e9eeb907d3b93b6e0e5",
    "execution": {
     "iopub.execute_input": "2023-11-08T23:40:04.627192Z",
     "iopub.status.busy": "2023-11-08T23:40:04.626777Z",
     "iopub.status.idle": "2023-11-08T23:40:05.049458Z",
     "shell.execute_reply": "2023-11-08T23:40:05.048300Z"
    },
    "papermill": {
     "duration": 0.430392,
     "end_time": "2023-11-08T23:40:05.052474",
     "exception": false,
     "start_time": "2023-11-08T23:40:04.622082",
     "status": "completed"
    },
    "tags": []
   },
   "outputs": [],
   "source": [
    "# This Python 3 environment comes with many helpful analytics libraries installed\n",
    "# It is defined by the kaggle/python Docker image: https://github.com/kaggle/docker-python\n",
    "# For example, here's several helpful packages to load\n",
    "\n",
    "import numpy as np # linear algebra\n",
    "import pandas as pd # data processing, CSV file I/O (e.g. pd.read_csv)\n",
    "\n",
    "# Input data files are available in the read-only \"../input/\" directory\n",
    "# For example, running this (by clicking run or pressing Shift+Enter) will list all files under the input directory\n",
    "\n",
    "import os\n",
    "for dirname, _, filenames in os.walk('/kaggle/input'):\n",
    "    for filename in filenames:\n",
    "        print(os.path.join(dirname, filename))\n",
    "\n",
    "# You can write up to 20GB to the current directory (/kaggle/working/) that gets preserved as output when you create a version using \"Save & Run All\" \n",
    "# You can also write temporary files to /kaggle/temp/, but they won't be saved outside of the current session"
   ]
  },
  {
   "cell_type": "code",
   "execution_count": 2,
   "id": "39d96a07",
   "metadata": {
    "execution": {
     "iopub.execute_input": "2023-11-08T23:40:05.062836Z",
     "iopub.status.busy": "2023-11-08T23:40:05.062287Z",
     "iopub.status.idle": "2023-11-08T23:40:06.202293Z",
     "shell.execute_reply": "2023-11-08T23:40:06.200993Z"
    },
    "papermill": {
     "duration": 1.149187,
     "end_time": "2023-11-08T23:40:06.205019",
     "exception": false,
     "start_time": "2023-11-08T23:40:05.055832",
     "status": "completed"
    },
    "tags": []
   },
   "outputs": [],
   "source": [
    "import numpy as np\n",
    "import pandas as pd\n",
    "import matplotlib as plt\n",
    "import scipy.stats as stats\n",
    "import random\n",
    "import math"
   ]
  },
  {
   "cell_type": "code",
   "execution_count": 3,
   "id": "d8f18bfb",
   "metadata": {
    "execution": {
     "iopub.execute_input": "2023-11-08T23:40:06.212800Z",
     "iopub.status.busy": "2023-11-08T23:40:06.212068Z",
     "iopub.status.idle": "2023-11-08T23:40:06.263440Z",
     "shell.execute_reply": "2023-11-08T23:40:06.262445Z"
    },
    "papermill": {
     "duration": 0.057867,
     "end_time": "2023-11-08T23:40:06.265908",
     "exception": false,
     "start_time": "2023-11-08T23:40:06.208041",
     "status": "completed"
    },
    "tags": []
   },
   "outputs": [
    {
     "data": {
      "text/plain": [
       "43.002372"
      ]
     },
     "execution_count": 3,
     "metadata": {},
     "output_type": "execute_result"
    }
   ],
   "source": [
    "np.random.seed(10)\n",
    "population_ages1 = stats.poisson.rvs(loc = 18, mu = 35, size = 150000)\n",
    "population_ages2 = stats.poisson.rvs(loc = 18, mu = 10, size = 100000)\n",
    "population_ages = np.concatenate((population_ages1, population_ages2))\n",
    "\n",
    "population_ages.mean()"
   ]
  },
  {
   "cell_type": "code",
   "execution_count": 4,
   "id": "e5153edf",
   "metadata": {
    "execution": {
     "iopub.execute_input": "2023-11-08T23:40:06.273587Z",
     "iopub.status.busy": "2023-11-08T23:40:06.273184Z",
     "iopub.status.idle": "2023-11-08T23:40:06.311998Z",
     "shell.execute_reply": "2023-11-08T23:40:06.310735Z"
    },
    "papermill": {
     "duration": 0.045699,
     "end_time": "2023-11-08T23:40:06.314699",
     "exception": false,
     "start_time": "2023-11-08T23:40:06.269000",
     "status": "completed"
    },
    "tags": []
   },
   "outputs": [
    {
     "data": {
      "text/plain": [
       "array([58, 55, 53, ..., 27, 28, 28])"
      ]
     },
     "execution_count": 4,
     "metadata": {},
     "output_type": "execute_result"
    }
   ],
   "source": [
    "np.random.seed(10)\n",
    "population_ages1 = stats.poisson.rvs(loc = 18, mu = 35, size = 150000)\n",
    "population_ages2 = stats.poisson.rvs(loc = 18, mu = 10, size = 100000)\n",
    "population_ages = np.concatenate((population_ages1, population_ages2))\n",
    "\n",
    "population_ages"
   ]
  },
  {
   "cell_type": "code",
   "execution_count": 5,
   "id": "221416c6",
   "metadata": {
    "execution": {
     "iopub.execute_input": "2023-11-08T23:40:06.322690Z",
     "iopub.status.busy": "2023-11-08T23:40:06.322299Z",
     "iopub.status.idle": "2023-11-08T23:40:06.332095Z",
     "shell.execute_reply": "2023-11-08T23:40:06.330931Z"
    },
    "papermill": {
     "duration": 0.017131,
     "end_time": "2023-11-08T23:40:06.334998",
     "exception": false,
     "start_time": "2023-11-08T23:40:06.317867",
     "status": "completed"
    },
    "tags": []
   },
   "outputs": [
    {
     "name": "stdout",
     "output_type": "stream",
     "text": [
      "42.388\n"
     ]
    },
    {
     "data": {
      "text/plain": [
       "0.614372000000003"
      ]
     },
     "execution_count": 5,
     "metadata": {},
     "output_type": "execute_result"
    }
   ],
   "source": [
    "np.random.seed(6)\n",
    "sample_ages = np.random.choice(a = population_ages,\n",
    "                              size = 500)\n",
    "print(sample_ages.mean())\n",
    "population_ages.mean() - sample_ages.mean()"
   ]
  }
 ],
 "metadata": {
  "kernelspec": {
   "display_name": "Python 3",
   "language": "python",
   "name": "python3"
  },
  "language_info": {
   "codemirror_mode": {
    "name": "ipython",
    "version": 3
   },
   "file_extension": ".py",
   "mimetype": "text/x-python",
   "name": "python",
   "nbconvert_exporter": "python",
   "pygments_lexer": "ipython3",
   "version": "3.10.12"
  },
  "papermill": {
   "default_parameters": {},
   "duration": 6.01887,
   "end_time": "2023-11-08T23:40:06.859161",
   "environment_variables": {},
   "exception": null,
   "input_path": "__notebook__.ipynb",
   "output_path": "__notebook__.ipynb",
   "parameters": {},
   "start_time": "2023-11-08T23:40:00.840291",
   "version": "2.4.0"
  }
 },
 "nbformat": 4,
 "nbformat_minor": 5
}
